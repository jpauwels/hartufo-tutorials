{
 "cells": [
  {
   "cell_type": "code",
   "execution_count": null,
   "metadata": {},
   "outputs": [],
   "source": [
    "from hartufo import Cipic, Listen, CrossMod, BiLi, Ari, Riec, Ita, Princeton3D3A, Sadie2, Hutubs, Chedar, Widespread, Scut, Sonicom\n",
    "from hartufo import HrirSpec\n",
    "from pathlib import Path"
   ]
  },
  {
   "cell_type": "code",
   "execution_count": null,
   "metadata": {},
   "outputs": [],
   "source": [
    "base_dir = Path('../hartufo-collections')"
   ]
  },
  {
   "cell_type": "markdown",
   "metadata": {},
   "source": [
    "collection     | method option       | variant option   | samplerate\n",
    "---------------|---------------------|------------------|-----------\n",
    "CIPIC          | acoustic            | compensated      | 44100\n",
    "Ircam Listen   | acoustic            | compensated, raw | 44100\n",
    "Ircam CrossMod | acoustic            | compensated, raw | 44100\n",
    "Ircam BiLi     | acoustic            | compensated, raw, compensated-interpolated | 44100, 48000, 96000\n",
    "ARI            | acoustic            | compensated      | 48000\n",
    "RIEC           | acoustic            | compensated      | 48000\n",
    "ITA            | acoustic            | compensated      | 44100\n",
    "Princeton 3D3A | acoustic, simulated-head, simulated-head_ears, simulated-head_ears_torso-consumer_grade, simulated-head_ears_torso-reference_grade | compensated, raw, compensated-lowfreqextended, compensated-equalized      | 96000\n",
    "SADIE II       | acoustic            | compensated      | 44100, 48000, 96000\n",
    "SCUT           | acoustic            | compensated      | 96000\n",
    "HUTUBS         | acoustic, simulated | compensated      | 44100\n",
    "CHEDAR         | simulated           | compensated      | 48000\n",
    "Widespread     | simulated           | compensated      | 48000\n",
    "SONICOM        | acoustic            | compensated, raw, compensated-itd_removed, raw-itd_removed, windowed, windowed-itd_removed, compensated-minphase, compensated-minphase-itd_removed | 44100, 48000, 96000\n"
   ]
  },
  {
   "cell_type": "code",
   "execution_count": null,
   "metadata": {},
   "outputs": [],
   "source": [
    "Cipic(base_dir / 'CIPIC', HrirSpec(), download=True, verify=True, subject_ids='first')"
   ]
  },
  {
   "cell_type": "code",
   "execution_count": null,
   "metadata": {},
   "outputs": [],
   "source": [
    "for variant in ('compensated', 'raw'):\n",
    "    Listen(base_dir / 'Ircam Listen', HrirSpec(variant=variant), download=True, verify=True, subject_ids='first')\n",
    "    CrossMod(base_dir / 'Ircam CrossMod', HrirSpec(variant=variant), download=True, verify=True, subject_ids='first')\n",
    "    BiLi(base_dir / 'Ircam BiLi', HrirSpec(variant=variant), download=True, verify=True, subject_ids='first')"
   ]
  },
  {
   "cell_type": "code",
   "execution_count": null,
   "metadata": {},
   "outputs": [],
   "source": [
    "for samplerate in (44100, 48000, 96000):\n",
    "    BiLi(base_dir / 'Ircam BiLi', HrirSpec(samplerate=samplerate, variant='compensated-interpolated'), download=True, verify=True, subject_ids='first')"
   ]
  },
  {
   "cell_type": "code",
   "execution_count": null,
   "metadata": {},
   "outputs": [],
   "source": [
    "Ari(base_dir / 'ARI', HrirSpec(), download=True, verify=True, subject_ids='first')\n",
    "Riec(base_dir / 'RIEC', HrirSpec(), download=True, verify=True, subject_ids='first')\n",
    "Ita(base_dir / 'ITA', HrirSpec(), download=True, verify=True, subject_ids='first')"
   ]
  },
  {
   "cell_type": "code",
   "execution_count": null,
   "metadata": {},
   "outputs": [],
   "source": [
    "for samplerate in (44100, 48000, 96000):\n",
    "    Sadie2(base_dir / 'SADIE II', HrirSpec(samplerate=samplerate), download=True, verify=True, subject_ids='first')"
   ]
  },
  {
   "cell_type": "code",
   "execution_count": null,
   "metadata": {},
   "outputs": [],
   "source": [
    "Scut(base_dir / 'SCUT', HrirSpec(), download=True, verify=True, subject_ids='first')"
   ]
  },
  {
   "cell_type": "code",
   "execution_count": null,
   "metadata": {},
   "outputs": [],
   "source": [
    "for method in ('acoustic', 'simulated'):\n",
    "    Hutubs(base_dir / 'HUTUBS', HrirSpec(method=method), download=True, verify=True, subject_ids='first')"
   ]
  },
  {
   "cell_type": "code",
   "execution_count": null,
   "metadata": {},
   "outputs": [],
   "source": [
    "for distance in (0.2, 0.5, 1, 2):\n",
    "    Chedar(base_dir / 'CHEDAR', HrirSpec(distance=distance), download=True, verify=True, subject_ids='first')"
   ]
  },
  {
   "cell_type": "code",
   "execution_count": null,
   "metadata": {},
   "outputs": [],
   "source": [
    "for distance in (0.2, 0.5, 1, 2):\n",
    "    Widespread(base_dir / 'Widespread', HrirSpec(distance=distance), download=True, verify=True, subject_ids='first', grid='UV')\n",
    "for distance in (1, 2):\n",
    "    Widespread(base_dir / 'Widespread', HrirSpec(distance=distance), download=True, verify=True, subject_ids='first', grid='ICO')"
   ]
  },
  {
   "cell_type": "markdown",
   "metadata": {},
   "source": [
    "## Verify only"
   ]
  },
  {
   "cell_type": "code",
   "execution_count": null,
   "metadata": {},
   "outputs": [],
   "source": [
    "for variant in ('compensated', 'raw', 'compensated-lowfreqextended', 'compensated-equalized'):\n",
    "    Princeton3D3A(base_dir / '3D3A', HrirSpec(method='acoustic', variant=variant), download=False, verify=True, subject_ids='first')\n",
    "for method in ('simulated-head', 'simulated-head_ears', 'simulated-head_ears_torso-consumer_grade', 'simulated-head_ears_torso-reference_grade'):\n",
    "    for variant in ('compensated', 'compensated-equalized'):\n",
    "        Princeton3D3A(base_dir / '3D3A', HrirSpec(method=method, variant=variant), download=False, verify=True, subject_ids='first')"
   ]
  },
  {
   "cell_type": "code",
   "execution_count": null,
   "metadata": {},
   "outputs": [],
   "source": [
    "for variant in ('compensated', 'raw', 'compensated-itd_removed', 'raw-itd_removed', 'windowed', \n",
    "                'windowed-itd_removed', 'compensated-minphase', 'compensated-minphase-itd_removed'):\n",
    "    for samplerate in (44100, 48000, 96000):\n",
    "        Sonicom(base_dir / 'SONICOM', HrirSpec(samplerate=samplerate, variant=variant), download=False, verify=True, subject_ids='first')"
   ]
  },
  {
   "cell_type": "markdown",
   "metadata": {},
   "source": []
  }
 ],
 "metadata": {
  "kernelspec": {
   "display_name": "Python 3",
   "language": "python",
   "name": "python3"
  },
  "language_info": {
   "codemirror_mode": {
    "name": "ipython",
    "version": 3
   },
   "file_extension": ".py",
   "mimetype": "text/x-python",
   "name": "python",
   "nbconvert_exporter": "python",
   "pygments_lexer": "ipython3",
   "version": "3.10.11"
  },
  "orig_nbformat": 4
 },
 "nbformat": 4,
 "nbformat_minor": 2
}
