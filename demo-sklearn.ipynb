{
 "cells": [
  {
   "cell_type": "code",
   "execution_count": null,
   "metadata": {},
   "outputs": [],
   "source": [
    "from hartufo import CipicPlane\n",
    "from hartufo import HrirSpec, SideSpec\n",
    "from hartufo.sklearn import Flatten, DomainTransformer\n",
    "from sklearn.pipeline import Pipeline\n",
    "from sklearn.decomposition import PCA\n",
    "from sklearn.svm import LinearSVC\n",
    "from sklearn.model_selection import GridSearchCV\n",
    "from pathlib import Path"
   ]
  },
  {
   "cell_type": "code",
   "execution_count": null,
   "metadata": {},
   "outputs": [],
   "source": [
    "base_dir = Path('../hartufo-collections')"
   ]
  },
  {
   "cell_type": "code",
   "execution_count": null,
   "metadata": {},
   "outputs": [],
   "source": [
    "ds = Cipic(base_dir / 'CIPIC', features_spec=HrirSpec(domain='time', side='any'), target_spec=SideSpec())"
   ]
  },
  {
   "cell_type": "code",
   "execution_count": null,
   "metadata": {},
   "outputs": [],
   "source": [
    "pipe = Pipeline([\n",
    "    ('domain', None),\n",
    "    ('flatten', Flatten()),\n",
    "    ('reduce_dim', None),\n",
    "    ('clf', LinearSVC()),\n",
    "])\n",
    "param_grid = {\n",
    "    'domain': [DomainTransformer('time'), DomainTransformer('magnitude')],#, DomainTransformer('magnitude_db')],\n",
    "    'reduce_dim': ['passthrough', PCA(n_components=None), PCA(n_components=3)],\n",
    "}"
   ]
  },
  {
   "cell_type": "code",
   "execution_count": null,
   "metadata": {},
   "outputs": [],
   "source": [
    "exp = GridSearchCV(pipe, param_grid, scoring='accuracy').fit(ds.features, ds.target)\n",
    "exp.cv_results_"
   ]
  },
  {
   "cell_type": "code",
   "execution_count": null,
   "metadata": {},
   "outputs": [],
   "source": []
  }
 ],
 "metadata": {
  "kernelspec": {
   "display_name": "Python 3",
   "language": "python",
   "name": "python3"
  },
  "language_info": {
   "codemirror_mode": {
    "name": "ipython",
    "version": 3
   },
   "file_extension": ".py",
   "mimetype": "text/x-python",
   "name": "python",
   "nbconvert_exporter": "python",
   "pygments_lexer": "ipython3",
   "version": "3.10.11"
  },
  "orig_nbformat": 4,
  "vscode": {
   "interpreter": {
    "hash": "fabffcacf106ad9540f378a406d8ad6ee7071176093cdecf1b15ca2578bc8783"
   }
  }
 },
 "nbformat": 4,
 "nbformat_minor": 2
}
