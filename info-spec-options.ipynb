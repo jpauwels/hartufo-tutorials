{
 "cells": [
  {
   "cell_type": "code",
   "execution_count": null,
   "metadata": {},
   "outputs": [],
   "source": [
    "from hartufo import HrirSpec, ImageSpec, AnthropometrySpec, SubjectSpec, SideSpec, CollectionSpec\n",
    "from hartufo.specifications import HrirPlaneSpec"
   ]
  },
  {
   "cell_type": "markdown",
   "metadata": {},
   "source": [
    "All `Spec`s accept `preprocess` and `transform` options to further process the data."
   ]
  },
  {
   "cell_type": "markdown",
   "metadata": {},
   "source": [
    "For `SubjectSpec`, `SideSpec` and `CollectionSpec`, these are the only accepted options."
   ]
  },
  {
   "cell_type": "code",
   "execution_count": null,
   "metadata": {},
   "outputs": [],
   "source": [
    "SubjectSpec?"
   ]
  },
  {
   "cell_type": "code",
   "execution_count": null,
   "metadata": {},
   "outputs": [],
   "source": [
    "SideSpec?"
   ]
  },
  {
   "cell_type": "code",
   "execution_count": null,
   "metadata": {},
   "outputs": [],
   "source": [
    "CollectionSpec?"
   ]
  },
  {
   "cell_type": "markdown",
   "metadata": {},
   "source": [
    "`HrirSpec` contains many options.\n",
    "\n",
    "Some activate add operations to the processing pipeline:\n",
    "- domain\n",
    "- additive_scale_factor\n",
    "- multiplicative_scale_factor\n",
    "- samplerate\n",
    "- length\n",
    "- min_phase\n",
    "- min_freq\n",
    "- max_freq\n",
    "\n",
    "Others make a subselection of the available data:\n",
    "- fundamental_angles\n",
    "- orthogonal_angles\n",
    "- side\n",
    "- distance\n",
    "- method\n",
    "- variant"
   ]
  },
  {
   "cell_type": "markdown",
   "metadata": {},
   "source": [
    "The accepted values for some options can be found below\n",
    "\n",
    "collection     | method option       | variant option   \n",
    "---------------|---------------------|------------------\n",
    "CIPIC          | acoustic            | compensated      \n",
    "Ircam Listen   | acoustic            | compensated, raw \n",
    "Ircam CrossMod | acoustic            | compensated, raw \n",
    "Ircam BiLi     | acoustic            | compensated, raw, compensated-interpolated \n",
    "ARI            | acoustic            | compensated      \n",
    "RIEC           | acoustic            | compensated      \n",
    "ITA            | acoustic            | compensated      \n",
    "Princeton 3D3A | acoustic, simulated-head, simulated-head_ears, simulated-head_ears_torso-consumer_grade, simulated-head_ears_torso-reference_grade | compensated, raw, compensated-lowfreqextended, compensated-equalized      \n",
    "SADIE II       | acoustic            | compensated      \n",
    "SCUT           | acoustic            | compensated      \n",
    "HUTUBS         | acoustic, simulated | compensated      \n",
    "CHEDAR         | simulated           | compensated      \n",
    "Widespread     | simulated           | compensated      \n",
    "SONICOM        | acoustic            | compensated, raw, compensated-itd_removed, raw-itd_removed, windowed, windowed-itd_removed, compensated-minphase, compensated-minphase-itd_removed "
   ]
  },
  {
   "cell_type": "code",
   "execution_count": null,
   "metadata": {},
   "outputs": [],
   "source": [
    "HrirSpec?"
   ]
  },
  {
   "cell_type": "markdown",
   "metadata": {},
   "source": [
    "`HrirPlaneSpec` has the same activator options for the processing pipeline:\n",
    "- domain\n",
    "- additive_scale_factor\n",
    "- multiplicative_scale_factor\n",
    "- samplerate\n",
    "- length\n",
    "- min_phase\n",
    "- min_freq\n",
    "- max_freq\n",
    "\n",
    "The `fundamental_angles` and `orthogonal_angles` options are replaced by the ones below that make it easier to select all positions in a plane. In addition, an operator get added at the end of the processing chain that stitches the plane together.\n",
    "- plane\n",
    "- plane_angles\n",
    "- plane_offset\n",
    "- positive_angles\n",
    "\n",
    "The other selection options remain the same:\n",
    "- side\n",
    "- distance\n",
    "- method\n",
    "- variant"
   ]
  },
  {
   "cell_type": "code",
   "execution_count": null,
   "metadata": {},
   "outputs": [],
   "source": [
    "HrirPlaneSpec?"
   ]
  },
  {
   "cell_type": "markdown",
   "metadata": {},
   "source": [
    "`ImageSpec` allows to select the side of the head and the orientation from where the picture, from the side (parasagittal view) or back."
   ]
  },
  {
   "cell_type": "code",
   "execution_count": null,
   "metadata": {},
   "outputs": [],
   "source": [
    "ImageSpec?"
   ]
  },
  {
   "cell_type": "markdown",
   "metadata": {},
   "source": [
    "`AnthropometrySpec` accepts option to select a `side` of the head, a subselection of all measurements and whether subjects with partial measurements need to be returned. The units of the measurements are standardised to return millimeters and degrees. Note that measurements returned by the same selector (e.g. `pinna-size`) from different collections are most likely not interchangeable. This is directly obvious from their difference in dimensions (table below), but even when dimensions and measurement names are exactly the same, significant differences in the measurement procedures could exist."
   ]
  },
  {
   "cell_type": "markdown",
   "metadata": {},
   "source": [
    "collection   | weight | age | sex | head-torso | pinna-size | pinna-angle\n",
    "-------------|--------|-----|-----|------------|------------|------------\n",
    "CIPIC        | 1      | 1   | 1   | 17         | 8          | 2\n",
    "Ircam Listen |        |     | 1   | 14         | 8          | 2\n",
    "ARI          | 1      | 1   | 1   | 17         | 17         | 2\n",
    "ITA          | 1      |     |     | 6          | 8          | \n",
    "3D3A         |        |     |     | 3          | 1          | \n",
    "SCUT         |        |     | 9   | 11         | 4          |\n",
    "HUTUBS       |        |     |     | 13         | 10         | 2\n",
    "CHEDAR       |        |     |     | 18         | 10         | 2"
   ]
  },
  {
   "cell_type": "code",
   "execution_count": null,
   "metadata": {},
   "outputs": [],
   "source": [
    "AnthropometrySpec?"
   ]
  },
  {
   "cell_type": "code",
   "execution_count": null,
   "metadata": {},
   "outputs": [],
   "source": []
  }
 ],
 "metadata": {
  "kernelspec": {
   "display_name": "Python 3",
   "language": "python",
   "name": "python3"
  },
  "language_info": {
   "codemirror_mode": {
    "name": "ipython",
    "version": 3
   },
   "file_extension": ".py",
   "mimetype": "text/x-python",
   "name": "python",
   "nbconvert_exporter": "python",
   "pygments_lexer": "ipython3",
   "version": "3.10.11"
  },
  "orig_nbformat": 4
 },
 "nbformat": 4,
 "nbformat_minor": 2
}
