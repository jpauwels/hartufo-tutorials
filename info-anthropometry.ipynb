{
 "cells": [
  {
   "cell_type": "code",
   "execution_count": null,
   "metadata": {},
   "outputs": [],
   "source": [
    "from hartufo import Cipic, Listen, CrossMod, BiLi, Ari, Riec, Ita, Princeton3D3A, Sadie2, Scut, Hutubs, Chedar, Widespread, Sonicom\n",
    "from hartufo import AnthropometrySpec\n",
    "from pathlib import Path\n",
    "import numpy as np"
   ]
  },
  {
   "cell_type": "code",
   "execution_count": null,
   "metadata": {},
   "outputs": [],
   "source": [
    "base_dir = Path('../hartufo-collections')"
   ]
  },
  {
   "cell_type": "code",
   "execution_count": null,
   "metadata": {},
   "outputs": [],
   "source": [
    "anthropometry_collections = (\n",
    "    (Cipic, base_dir / 'CIPIC'),\n",
    "    (Listen, base_dir / 'Ircam Listen'),\n",
    "    (Ari, base_dir / 'ARI'),\n",
    "    (Ita, base_dir / 'ITA'),\n",
    "    (Princeton3D3A, base_dir / '3D3A'), \n",
    "    (Scut, base_dir / 'SCUT'),\n",
    "    (Hutubs, base_dir / 'HUTUBS'),\n",
    "    (Chedar, base_dir / 'CHEDAR'),\n",
    ")\n",
    "\n",
    "anthropometry_datasets = []\n",
    "for idx, (collection, data_dir) in enumerate(anthropometry_collections):\n",
    "    print(collection.__name__)\n",
    "    ds = collection(data_dir, features_spec=AnthropometrySpec(partial=True), subject_ids='first')\n",
    "    anthropometry_datasets.append(ds)"
   ]
  },
  {
   "cell_type": "code",
   "execution_count": null,
   "metadata": {},
   "outputs": [],
   "source": [
    "for ds in anthropometry_datasets:\n",
    "    print(type(ds).__name__, ':', ', '.join(ds.query.allowed_anthropometry_selection))"
   ]
  },
  {
   "cell_type": "markdown",
   "metadata": {},
   "source": [
    "collection   | weight | age | sex | head-torso | pinna-size | pinna-angle\n",
    "-------------|--------|-----|-----|------------|------------|------------\n",
    "CIPIC        | 1      | 1   | 1   | 17         | 8          | 2\n",
    "Ircam Listen |        |     | 1   | 14         | 8          | 2\n",
    "ARI          | 1      | 1   | 1   | 17         | 17         | 2\n",
    "ITA          | 1      |     |     | 6          | 8          | \n",
    "3D3A         |        |     |     | 3          | 1          | \n",
    "SCUT         |        |     | 9   | 11         | 4          |\n",
    "HUTUBS       |        |     |     | 13         | 10         | 2\n",
    "CHEDAR       |        |     |     | 18         | 10         | 2\n"
   ]
  },
  {
   "cell_type": "code",
   "execution_count": null,
   "metadata": {},
   "outputs": [],
   "source": [
    "for ds in anthropometry_datasets:\n",
    "    print(type(ds).__name__)\n",
    "    print(', '.join([f'{k}: {len(v)}' for k, v in ds.query._anthropometry_names.items()]))"
   ]
  },
  {
   "cell_type": "code",
   "execution_count": null,
   "metadata": {},
   "outputs": [],
   "source": []
  }
 ],
 "metadata": {
  "kernelspec": {
   "display_name": "Python 3",
   "language": "python",
   "name": "python3"
  },
  "language_info": {
   "codemirror_mode": {
    "name": "ipython",
    "version": 3
   },
   "file_extension": ".py",
   "mimetype": "text/x-python",
   "name": "python",
   "nbconvert_exporter": "python",
   "pygments_lexer": "ipython3",
   "version": "3.10.11"
  },
  "orig_nbformat": 4
 },
 "nbformat": 4,
 "nbformat_minor": 2
}
